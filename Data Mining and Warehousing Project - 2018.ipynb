{
  "cells": [
    {
      "metadata": {
        "trusted": true,
        "_uuid": "1b4b4aa796ce0d626f1adbf18ad05a48c77375c3"
      },
      "cell_type": "markdown",
      "source": "# Wine Points Prediction\nPrepared By: </br>\n    Latoya Clarke - 1400181,\n    </br>\n    Daniella Mcalla - 1502562,\n    Mardon Bailey - 1300097"
    },
    {
      "metadata": {
        "_uuid": "cc0116c1530697c5b1a5d5b2c276c3e6c2b1bab0"
      },
      "cell_type": "markdown",
      "source": "## Scenario:\nRoger Voss is  a famous master sommelier,  european editor at Wine Enthusiast and author of many books about wine.  **Wine Merchants** is a local wine retailer in France. They realized a trend in their wine sales. This trend shows that the higher the wine scores given by Mr. Roger Voss, the higher the sales of the wine. Wine Merchants wants to expand their wine offerings but are unsure of how these other wines would perform (in sales). Wine Merchant now wants to predict score Mr. Roger Voss would give these newer wine offerings inorder to select which wines will substantially increase their bottom line. \n\n\n### Food for thought\nBased on research, the taste, smell, texture and look of a bottle of wine is what affects the point/rating a sommelier (wine expert) gives the wine. If these characteristics of the wine drives the points given to it, what are the factors that drive these characteristics to be of a certain quality.  \n"
    },
    {
      "metadata": {
        "_uuid": "6774a043edcc8feb39eae660449c4dead356cfda"
      },
      "cell_type": "markdown",
      "source": "## Selection of Data"
    },
    {
      "metadata": {
        "_uuid": "98a9dc900784e36844c718e1fcaf498dfbd4b62a"
      },
      "cell_type": "markdown",
      "source": "#### Description of Dataset:\nThe Wine dataset consists of data about wine tasting reviews scraped from the Wine Enthusiast Magazine https://www.winemag.com/?s=&drink_type=wine&page=12466on  . The dataset consists of only wines that have received a point between 80 and 100 inclusive. The dataset consists of 129, 971 observations (rows) and  14 attributes (columns) of which only a subset of these observations were used in the actual analysis. The sample of the dataset used in the analysis has a dimension of (25514, 14) and is exclusive to wines evaluated by Roger Voss.  From the 14 features in the sample dataset, only a few were selected to predict the points Roger Voss alloted to each wine.  Some of these features include the wine's designation, regions in which the grapes used to make the wine are grown and the type of grapes used to make the wine (variety) etc. Other features such as the vintage year were created via feature engineering in aid of developing models to predict the points ratings Roger Voss would give a wine. \n\nSince the aim is to create predictive models that will predict points Roger Voss is likely to give a wine, the sample dataset was not randomly selected. The selection was rather deliberate. \n\n* ###### Metadata:\n\nMore information on the dataset  such as the metadata may be accessed via this link https://www.kaggle.com/zynicide/wine-reviews\n\n#### Definition of Terms: \n\n* ###### Sommelier :\nA wine expert/specialist. A knowledgeable wine professional \n\n* ###### Wine Tasting Review :\nAn event where sommeliers perform a sensory examination and evaluation of a wine. (i.e. taste, smell, feel & look of wine) \n\n* ###### Vintage Year : \nThe year on a bottle of  wine which denotes that most if not all the grapes used to make that bottle of wine were harvested in that pecified year\n\n\n\n"
    },
    {
      "metadata": {
        "_uuid": "8f2839f25d086af736a60e9eeb907d3b93b6e0e5",
        "_cell_guid": "b1076dfc-b9ad-4769-8c92-a6c4dae69d19",
        "trusted": true
      },
      "cell_type": "code",
      "source": "# Libraries needed \nimport numpy as np\nimport pandas as pd\nimport matplotlib.pyplot as plt\nimport seaborn as sns\nfrom sklearn.metrics import mean_squared_error,mean_absolute_error\nimport math\nimport warnings\nimport re\nwarnings.filterwarnings('ignore')\n%matplotlib inline\n#random_state = 1\nplt.rcParams['figure.figsize']=8,8\nimport os\nprint(os.listdir(\"../input\"))",
      "execution_count": null,
      "outputs": []
    },
    {
      "metadata": {
        "_cell_guid": "79c7e3d0-c299-4dcb-8224-4455121ee9b0",
        "_uuid": "d629ff2d2480ee46fbb7e2d37f6b5fab8052498a",
        "trusted": true
      },
      "cell_type": "code",
      "source": "# load wine dataset into notebook\ndata_path = \"../input/winemag-data-130k-v2.csv\"\nwine_data = pd.read_csv(data_path)",
      "execution_count": null,
      "outputs": []
    },
    {
      "metadata": {
        "trusted": true,
        "_uuid": "010c7219d3799e4ab810cfbf9fc2caf50c13cd59"
      },
      "cell_type": "code",
      "source": "print(\"Wine Data Dimension:\",wine_data.shape)\nwine_data.head(3) #disply first 5 elements in dataset",
      "execution_count": null,
      "outputs": []
    },
    {
      "metadata": {
        "trusted": true,
        "_uuid": "32cf0ec696d860ea10b782d63f62abbb77d67fc4"
      },
      "cell_type": "code",
      "source": "wine_data.tail(3) #displays last 3 elements in dataset",
      "execution_count": null,
      "outputs": []
    },
    {
      "metadata": {
        "trusted": true,
        "_uuid": "ec6d5bd244c866d00c94a728c19c0e5727c92a34"
      },
      "cell_type": "code",
      "source": "# check to see if there are spaces in column names\nwine_data.columns",
      "execution_count": null,
      "outputs": []
    },
    {
      "metadata": {
        "trusted": true,
        "_uuid": "0725c889310b1eeb353cb61bb92192d84b07d764"
      },
      "cell_type": "code",
      "source": "wine_data.describe()",
      "execution_count": null,
      "outputs": []
    },
    {
      "metadata": {
        "trusted": true,
        "_uuid": "b4ec9deeb95c728f78ddab451fe7be896c2adff4"
      },
      "cell_type": "code",
      "source": "# Useful information about the data\nwine_data.info()",
      "execution_count": null,
      "outputs": []
    },
    {
      "metadata": {
        "trusted": true,
        "_uuid": "82b97a82e129cbbd1af19f97b0ac4c9c908f46e5"
      },
      "cell_type": "code",
      "source": "# Disttribution of points for initial dataset\nsns.distplot(wine_data.points) \nplt.xlabel(\"Points\",size=15)\nplt.title(\"Fig.1: Points Distribution\", size=20)",
      "execution_count": null,
      "outputs": []
    },
    {
      "metadata": {
        "trusted": true,
        "_uuid": "994001e8fb8ea4c1b3c36b2a1979f19428c6cdca"
      },
      "cell_type": "code",
      "source": "# Wine Tasters and the Amount of Wines Evaluated\nwine_data['taster_name'].value_counts().plot(kind='bar')\nplt.xticks(fontsize=11)\nplt.xlabel(\"Taster Names\",size=15)\nplt.ylabel('No. of wines tasted', size=15)\nplt.title(\"Fig. 2: Wine Tasters and the Amount of Wines Evaluated\", size=20)",
      "execution_count": null,
      "outputs": []
    },
    {
      "metadata": {
        "_uuid": "948d57bcc4f1e0eb408a3ecc99f9cb81d06226bf"
      },
      "cell_type": "markdown",
      "source": "### Sample Dataset (i.e. wines evaluated by Roger Voss)"
    },
    {
      "metadata": {
        "trusted": true,
        "_uuid": "6547d4ab6bba6a77b29dae1f831516e162faf300"
      },
      "cell_type": "code",
      "source": "# Selecting sample of the data that will be used (i.e. the wines evaluated by Roger Voss)\nwine_data = wine_data[(wine_data['taster_name']=='Roger Voss') | (wine_data['taster_twitter_handle']=='@vossroger')]\nprint(\"Wine Data Sample Dimension:\",wine_data.shape,\"(i.e. Wines evaluated by Roger Voss)\") #dataset dimension\nwine_data.head()",
      "execution_count": null,
      "outputs": []
    },
    {
      "metadata": {
        "trusted": true,
        "_uuid": "7b7e05b3b7f4956b953510924092ac330d6e633b"
      },
      "cell_type": "code",
      "source": "# Measures of the numerical data (i.e. wines tasted by Roger Voss)\nwine_data.describe()",
      "execution_count": null,
      "outputs": []
    },
    {
      "metadata": {
        "trusted": true,
        "_uuid": "967af11fb7fc578d17b046352405981798a32d39"
      },
      "cell_type": "code",
      "source": "wine_data.info()",
      "execution_count": null,
      "outputs": []
    },
    {
      "metadata": {
        "trusted": true,
        "_uuid": "a426bc60b2bbf1ee301c2cf5d44f7656fb5d3d78"
      },
      "cell_type": "code",
      "source": "# Distribution of points for wines Roger Voss evaluated\nsns.distplot(wine_data.points) \nplt.xlabel(\"Points\",size=15)\nplt.title(\"Fig.3: Points Distribution for Wines Evaluated by Roger Voss \", size=20)",
      "execution_count": null,
      "outputs": []
    },
    {
      "metadata": {
        "trusted": true,
        "_uuid": "bee88f21f2900c083827094004501423ae3204dc"
      },
      "cell_type": "code",
      "source": "sns.countplot(x='country',data=wine_data, orient=\"h\")\nplt.ylabel('Country Count',size=12)\nplt.xlabel(\"Country\",size=12)\nplt.xticks(rotation=45)\nplt.suptitle(\"Fig.4: Countries per bottle of Wine Evaluted by Roger Voss \", size=20)",
      "execution_count": null,
      "outputs": []
    },
    {
      "metadata": {
        "_uuid": "bfde46ccb8775b629875b3ac1086ab8994414379"
      },
      "cell_type": "markdown",
      "source": "## Preprocessing of Data"
    },
    {
      "metadata": {
        "trusted": true,
        "_uuid": "638d7d3f29dcbb366ae591a9c2bbffcda1c988da"
      },
      "cell_type": "code",
      "source": "# Rename column 'serial' to 'wine_id'\nwine_data.rename(columns={'serial':'wine_Id'}, inplace=True)\nwine_data.head(1)",
      "execution_count": null,
      "outputs": []
    },
    {
      "metadata": {
        "trusted": true,
        "_uuid": "e3efef6e9a0fc20060dd8f053661f1bdad8f34ab"
      },
      "cell_type": "code",
      "source": "#check for duplicates in dataset and remove if any\nprint(wine_data.duplicated(subset=None, keep='first').sum(),\"duplicate record(s)\")",
      "execution_count": null,
      "outputs": []
    },
    {
      "metadata": {
        "trusted": true,
        "_uuid": "a80f34cf3d4aed98af1af0534ef1286b344bb4eb"
      },
      "cell_type": "code",
      "source": "# Perform feature extraction to impute the year of each wine\nwine_data['year'] = wine_data['title'].str.extract('(\\d\\d\\d\\d)', expand=True)",
      "execution_count": null,
      "outputs": []
    },
    {
      "metadata": {
        "trusted": true,
        "_uuid": "fe48fc0591669d8298d1031be15aae9edba01c47"
      },
      "cell_type": "code",
      "source": "# Check to see if there are any null years\nwine_data['year'].isnull().value_counts()",
      "execution_count": null,
      "outputs": []
    },
    {
      "metadata": {
        "trusted": true,
        "scrolled": true,
        "_uuid": "c5708284646cb97f8250a16052a814f1f72eec76"
      },
      "cell_type": "code",
      "source": "# wines that does not have a year in the title\n#Wines without a year are classified as Non-Vintage wines\nwine_data.title[wine_data['year'].isnull()].head()",
      "execution_count": null,
      "outputs": []
    },
    {
      "metadata": {
        "trusted": true,
        "_uuid": "1c66a6db35ab8ef77c40ccc7af3eab66fb76f939"
      },
      "cell_type": "code",
      "source": "# convert year to int so as to make searches for preprocessing easier\nwine_data.year = pd.to_numeric(wine_data.year, errors='coerce').fillna(0).astype(np.int64)",
      "execution_count": null,
      "outputs": []
    },
    {
      "metadata": {
        "trusted": true,
        "_uuid": "1a159ffaf29b185ade7332a632f261e598a8fb9f"
      },
      "cell_type": "code",
      "source": "# check fo erroneous years (NB: its year 2018, any year above this is invalid)\nprint((wine_data['year']>2018).sum(),\"invalid year(s)\")",
      "execution_count": null,
      "outputs": []
    },
    {
      "metadata": {
        "trusted": true,
        "_uuid": "6cc34445002c6a1509261e97680d5f31eb4e94ec"
      },
      "cell_type": "code",
      "source": "# Applying feature engineering to create type of wine (Vintage/n\\Non-Vintage)\nwine_data['type']= None\nwine_data.type[wine_data['year']!=0] = 'Vintage'\nwine_data.type[wine_data['year']==0] = 'Non-Vintage'",
      "execution_count": null,
      "outputs": []
    },
    {
      "metadata": {
        "trusted": true,
        "_uuid": "9d438ddbb67b5a857d27f0185c9c84bbf0c2cbc6"
      },
      "cell_type": "code",
      "source": "# Create loation by feature extraction from title\nno_location = wine_data['title'].str.split('(', expand=True, n=1)\n#wine_data['location'] = no_location.str.extract('(', expand=True)\n#wine_data\nno_location=no_location[1].str.split(')', expand=True, n=1)\nwine_data['location']=no_location[0]\n\n#wine_data[wine_data['location'].isnull()==True]",
      "execution_count": null,
      "outputs": []
    },
    {
      "metadata": {
        "trusted": true,
        "_uuid": "c12fdde0ba332b57c06a070d448972a1ddd5f6cd"
      },
      "cell_type": "code",
      "source": "# impute location from region_2,region_1,province \nwine_data['location'].fillna(wine_data.region_2, inplace = True) \nwine_data['location'].fillna(wine_data.region_1, inplace = True)\nwine_data['location'].fillna(wine_data.province, inplace = True)",
      "execution_count": null,
      "outputs": []
    },
    {
      "metadata": {
        "trusted": true,
        "_uuid": "dbcad4e1672495854c87038f8645172cff3c0725"
      },
      "cell_type": "code",
      "source": "# look for missing locations and country\nprint(wine_data['location'].isnull().sum(),\"missing location(s) and\",wine_data['country'].isnull().sum(),\"missing countries\") #check for null locations\n\n#impute missing missing location and country from title research\nwine_data.location.fillna('Bordeaux',inplace=True)\nwine_data.country.fillna('France',inplace=True)\n\nprint(\"are attributed to 'Bordeaux' region in 'France' based on research of wine titles\")",
      "execution_count": null,
      "outputs": []
    },
    {
      "metadata": {
        "trusted": true,
        "_uuid": "163acc98fec3c30ce668feb249ce5403ff1a13b2"
      },
      "cell_type": "code",
      "source": "# look for missing prices\nprint(wine_data['price'].isnull().sum(),\"missing price(s)\") #check for null prices\n\n#impute missing prices with the median price\nwine_data.price.fillna(wine_data['price'].median(),inplace=True)\nprint(\"imputed from median price\")",
      "execution_count": null,
      "outputs": []
    },
    {
      "metadata": {
        "trusted": true,
        "_uuid": "259d9285b8fdde4c5416ac868601d4295886cb4c"
      },
      "cell_type": "code",
      "source": "# Drop columns that are not needed\nwine_data_2 = wine_data.drop(['designation','region_1','region_2','taster_twitter_handle','description','province','taster_name'],axis=1)\nwine_data_2.head()",
      "execution_count": null,
      "outputs": []
    },
    {
      "metadata": {
        "trusted": true,
        "_uuid": "0528efd68faff7f937284fa6a806d3cc21f91d3c"
      },
      "cell_type": "code",
      "source": "wine_data_2.info() # confirm that there are no missing values",
      "execution_count": null,
      "outputs": []
    },
    {
      "metadata": {
        "trusted": true,
        "_uuid": "8a019f4916bfe9f1da07666b1e76e13c1bf58cbe"
      },
      "cell_type": "markdown",
      "source": "## Transformation of Data"
    },
    {
      "metadata": {
        "trusted": true,
        "_uuid": "ab0b0aa9a12986ff455d265b971cbe47ff26efba"
      },
      "cell_type": "code",
      "source": "# Transformation\n# Label encoder transforms nominal features into numerical labels which algorithms can make sense of\ndef create_label_encoder_dict(df):\n    from sklearn.preprocessing import LabelEncoder\n    \n    label_encoder_dict = {}\n    \n    for column in df.columns:\n        if not np.issubdtype(df[column].dtype, np.number) and column != 'year':\n            label_encoder_dict[column]= LabelEncoder().fit(df[column])\n    return label_encoder_dict",
      "execution_count": null,
      "outputs": []
    },
    {
      "metadata": {
        "trusted": true,
        "_uuid": "7e6ef13bded5480004e03b503d0232278f9813da"
      },
      "cell_type": "code",
      "source": "\nlabel_encoders = create_label_encoder_dict(wine_data_2)\n#print(\"Encoded Values for each Label\")\n#print(\"=\"*32)\n#for column in label_encoders:\n #   print(\"=\"*32)\n #   print('Encoder(%s) = %s' % (column, label_encoders[column].classes_ ))\n  #  print(pd.DataFrame([range(0,len(label_encoders[column].classes_))], columns=label_encoders[column].classes_, index=['Encoded Values']  ).T)\n    ",
      "execution_count": null,
      "outputs": []
    },
    {
      "metadata": {
        "trusted": true,
        "_uuid": "1541579b2ce624be1fa0054fd06adb12bac71865"
      },
      "cell_type": "code",
      "source": "### Apply each encoder to the data set to obtain transformed values\nwd3 = wine_data_2.copy() # create copy of initial data set\nfor column in wd3.columns:\n    if column in label_encoders:\n        wd3[column] = label_encoders[column].transform(wd3[column])\n\nprint(\"Transformed data set\")\nprint(\"=\"*32)\nwd3.head()\n",
      "execution_count": null,
      "outputs": []
    },
    {
      "metadata": {
        "_uuid": "6a4d0637477ad79f7859d0cab879586302b5f171"
      },
      "cell_type": "markdown",
      "source": "## Mining of Data"
    },
    {
      "metadata": {
        "trusted": true,
        "_uuid": "10e463d61b2a455eaaf99d2976b9d13d49d3dbbc"
      },
      "cell_type": "code",
      "source": "# Function to do K-Fold Cross Validation\ndef cross_validate(x,y,kf_split):\n    from sklearn.model_selection import KFold\n    \n    #K-Fold Cross Validation\n    kf =KFold(n_splits=kf_split,shuffle=True,random_state=1)\n    \n    for train_index, test_index in kf.split(x):\n        X_train, X_test = x.iloc[train_index], x.iloc[test_index]\n        y_train, y_test = y.iloc[train_index], y.iloc[test_index]\n        \n    return [X_train,y_train,X_test,y_test]",
      "execution_count": null,
      "outputs": []
    },
    {
      "metadata": {
        "_uuid": "60e1bb376a839b2c15e4e62d6f17a94b71af5bdd"
      },
      "cell_type": "markdown",
      "source": "\n#### ====JUSTIFICATION OF USE====\n\nA cross validataion was done to help reduce the liklihood of selection bias and overfitting\nand to give insights as to how the predictive models will generalise to an unknown dataset.\n\nApart from popularity, there is no specific reason for choosing the K-Fold Cross Validation.\n"
    },
    {
      "metadata": {
        "trusted": true,
        "_uuid": "af0d789bd58f9d217716004dac2ff3b0ad897ac2"
      },
      "cell_type": "code",
      "source": "# Algorithms without Hyper Parameter Tuning\ndef pred_techniques(x,y,kf_split): \n    from sklearn.tree import DecisionTreeRegressor\n    from sklearn.neural_network import MLPRegressor\n\n    train_test = cross_validate(x,y,kf_split) #perform kfold cross validation\n\n    # Decision Tree Regressor\n    reg = DecisionTreeRegressor(random_state=1) \n    reg.fit(train_test[0], train_test[1])\n    \n    \n    # Multi-Layer Perceptron Regressor\n    clf = MLPRegressor(solver='adam', alpha=1e-5, activation='relu',learning_rate_init =0.01,shuffle=True,\n                    hidden_layer_sizes=(7, 4),random_state=1)\n    clf.fit(train_test[0],train_test[1])\n    \n\n    return [reg,clf,train_test[2],train_test[3],train_test[0],train_test[1]]",
      "execution_count": null,
      "outputs": []
    },
    {
      "metadata": {
        "trusted": true,
        "_uuid": "e3380d20bdb6a7f0e73ee3d8b6ff73f0df5bc885"
      },
      "cell_type": "code",
      "source": "# separate data into dependent (Y) and independent(X) variables\nfeature_cols =  ['variety','winery','location', 'year']\nx_data = wd3[feature_cols]\ny_data = wd3['points']\n\nl = pred_techniques(x_data,y_data,100)\nprint(\"Fig.5: Feature Significance\") \npd.DataFrame([ \"%.2f%%\" % perc for perc in (l[0].feature_importances_ * 100) ], index = x_data.columns, columns = ['Feature Significance in Decision Tree'])    ",
      "execution_count": null,
      "outputs": []
    },
    {
      "metadata": {
        "_uuid": "30327f14e606e4b98c7116a6265cb7b99d6d5201"
      },
      "cell_type": "markdown",
      "source": "## Interpretation/Evaluation"
    },
    {
      "metadata": {
        "trusted": true,
        "_uuid": "a756aa03b10976cbe2483bf029519167471d5e2d"
      },
      "cell_type": "code",
      "source": "# Accuracy Test Scores of both techniques \nr2_tree = l[0].score(l[2],l[3])\nr2_nn = l[1].score(l[2],l[3])\n\nprint(\"Decision Tree Regressor\")\nprint(\"=\"*32)\nprint(\"R Square:\",r2_tree )\n\n\nprint(\"\\nMulti-Layer Perceptron Regressor\")\nprint(\"=\"*32)\nprint(\"R Square:\",r2_nn)\n",
      "execution_count": null,
      "outputs": []
    },
    {
      "metadata": {
        "trusted": true,
        "_uuid": "89e2d521e68066973f9dfd797947ec8fdf35bd60"
      },
      "cell_type": "code",
      "source": "# Actual points and Predicted points by both models plus 4 predictor variables on left\nresults= l[2].copy()\nresults['Actual Points']=l[3]\npred_tree=l[0].predict(l[2])\npred_mlp=l[1].predict(l[2])\nresults['Dec_Tree_Reg']=pred_tree\nresults['MLP_Regressor']=pred_mlp\nprint(\"Fig.6: Actual Points and Predicted Points yielded from both Models\")\nresults.head()\n",
      "execution_count": null,
      "outputs": []
    },
    {
      "metadata": {
        "trusted": true,
        "_uuid": "3c260019c6c4904f7cf3ce3469bdbccf8bd719cc"
      },
      "cell_type": "code",
      "source": "# Calculate Variance in both models\nmse_treg = mean_squared_error(l[3],pred_tree)\nmse_nn = mean_squared_error(l[3],pred_mlp)\n\n# Calculate Standard Deviation in both models\nrmse_treg = math.sqrt(mean_squared_error(l[3],pred_tree))\nrmse_nn = math.sqrt(mean_squared_error(l[3],pred_mlp))\n\n# Calcualte Mean Absolute Error in both models\nmae_treg = mean_absolute_error(l[3],pred_tree)\nmae_nn = mean_absolute_error(l[3],pred_mlp)\n\n# Print evaluation metrics of both models\nprint(\"Decision Tree Regressor\")\nprint(\"=\"*32)\nprint(\"MSE:\",mse_treg)\nprint(\"RMSE:\",rmse_treg)\nprint(\"MAE:\",mae_treg)\n\nprint(\"\\nMulti-Layer Perceptron Regressor\")\nprint(\"=\"*32)\nprint(\"MSE:\",mse_nn)\nprint(\"RMSE:\",rmse_nn)\nprint(\"MAE:\",mae_nn)",
      "execution_count": null,
      "outputs": []
    },
    {
      "metadata": {
        "trusted": true,
        "scrolled": false,
        "_uuid": "8ed4e4c9cfc6c2042eb911a657be7cfcc8124ec7"
      },
      "cell_type": "code",
      "source": "print(\"Decision Tree Number of Perfect Predictions:\")\nresults[results['Dec_Tree_Reg']==results['Actual Points']].Dec_Tree_Reg.count()",
      "execution_count": null,
      "outputs": []
    },
    {
      "metadata": {
        "trusted": true,
        "_uuid": "b6e798c07c68644f63172f0351c2eca5a26a60b0"
      },
      "cell_type": "code",
      "source": "print(\"Neural Network Number of Perfect Predictions:\")\nresults[results['MLP_Regressor']==results['Actual Points']].MLP_Regressor.count()",
      "execution_count": null,
      "outputs": []
    },
    {
      "metadata": {
        "trusted": true,
        "_uuid": "2aa0ec6461ca7b97817444766a3a80e8954ea76e"
      },
      "cell_type": "code",
      "source": "sns.distplot( results[\"Actual Points\"] , color=\"skyblue\", label=\"Actual Points\")\nsns.distplot( results[\"Dec_Tree_Reg\"] , color=\"orange\", label=\"Decision Tree Predicted Points\")\nplt.legend()\nplt.xlabel(\"Points\",size=15)\nplt.title(\"Fig.7: Actual Points vs Decision Tree Predicted Points\", size=20)",
      "execution_count": null,
      "outputs": []
    },
    {
      "metadata": {
        "trusted": true,
        "_uuid": "ac2fc63c032fd2eb8bbc2561477a2fac204090b3"
      },
      "cell_type": "code",
      "source": "sns.distplot( results[\"Actual Points\"] , color=\"skyblue\", label=\"Actual Points\")\nsns.distplot( results[\"MLP_Regressor\"] , color=\"red\", label=\"NN Predicted Points\")\nplt.legend()\nplt.xlabel(\"Points\",size=15)\nplt.title(\"Fig.8: Actual Points vs Neural Network Predicted Points\", size=20)",
      "execution_count": null,
      "outputs": []
    },
    {
      "metadata": {
        "trusted": true,
        "_uuid": "2028f40639bfe5e96b3d088d0523c0f025e2972f"
      },
      "cell_type": "code",
      "source": "print(\"Fig.9: Summary of Evaluation Metrics\")\npd.DataFrame(dict(R_Square= [r2_tree,r2_nn],\n                  MSE=[mse_treg,mse_nn], RMSE=[rmse_treg,rmse_nn],MAE=[mae_treg,mae_nn]),\n                index=['Dec Tree Reg','MLP Reg'])\n",
      "execution_count": null,
      "outputs": []
    },
    {
      "metadata": {
        "_uuid": "916710d1b74cfb36e96b8ad88d767d5126d143c6"
      },
      "cell_type": "markdown",
      "source": "\nThe two techniques used to predict the points Roger Voss would give a wine are Decision Tree Regressor (DTR) and Multi-Layer Perceptron Regressor (MLPR).  Both techniques were used because the response variable (points) is of numeric datatype and both are able to do multiple regression.\n\nDecision Tree\n\nThe Decision Tree Algorithm builds a tree like structure as a model which uses a top-down, greedy search through the space of possible branches with no backtracking.  The model breaks down the dataset into smaller and smaller subsets while the associated decision tree is created incrementally. The Decision Tree algorithm is simple to understand and interpret, has value even with little hard data, helps determine worst, best and expected values for different scenarios and can be combined with other decision techniques.\n\nMulti-Layer Perceptron (MLP) \n\nThe Multi-Layer Perceptron is the sum of several perceptions together. The input layer reads in the data and the output layer creates the resulting output. The Multi-Layer Perceptron model trains using backpropagation with no activation function in the output layer, which can also be seen as using the identity function as activation function. The Multi-Layer Perceptron uses a parameter alpha for regularization (L2 regularization) term which helps in avoiding overfitting by penalizing weights with large magnitudes. The Multi-layer Perceptron algorithm is capable of learning non-linear models in real-time and requires tuning a number of hyperparameters such as the number of hidden neurons, layers, and iterations. Multi-Layer Perception algorithm is also sensitive to feature scaling.\n\n\n The Decision Tree Regressor outperformed the MLP regressor  in this experiment. The R2 score  or \"coefficient of determination\" which depicts how well the data fits the model had a value of 0.278 for the Decision Tree Regressor and 0.020657 for the MLP Regressor.  These values are relatively low which suggest that the models did not fit the data very well. However, the standard deviations or \"RMSE\" of both models were relatively low.  This is an indication that the observations are not spread out but rather closer to the actual points which further suggests that the model did not perform as bad.  The Decision Tree Regressor had a standard deviation of 2.551697 and the MLP Regressor had a standard deviation of 2.972425. "
    },
    {
      "metadata": {
        "_kg_hide-output": false,
        "_kg_hide-input": true,
        "trusted": true,
        "_uuid": "20b4df8720b80b43e96d21926997422b2be73d12"
      },
      "cell_type": "code",
      "source": "results.describe()",
      "execution_count": null,
      "outputs": []
    },
    {
      "metadata": {
        "_uuid": "33937c567b7f57f7c1a483ac1e78e7bc6705a850"
      },
      "cell_type": "markdown",
      "source": "## Conclusion\n\nThe wine retailer is now able to know what wines to purchase and where to purchase them."
    },
    {
      "metadata": {
        "_uuid": "be9eee9a696c43b96dfee75c21e559663712ef21"
      },
      "cell_type": "markdown",
      "source": "## References\n\nAttending a Wine Tasting Event - dummies. (2018). Retrieved from https://www.dummies.com/food-drink/drinks/wine/attending-a-wine-tasting-event/\n\nMetadata \nhttps://www.kaggle.com/zynicide/wine-reviews\n\nThe Different Types of Wine (Infographic) | Wine Folly. (2018). Retrieved from https://winefolly.com/review/different-types-of-wine/"
    },
    {
      "metadata": {
        "_uuid": "9954e4400cc0cfc6c535213a998df580031bcf5a"
      },
      "cell_type": "markdown",
      "source": "## Appendices"
    },
    {
      "metadata": {
        "trusted": true,
        "_uuid": "e4ccb8469b213191f2f62c2ca3e60cb07b8c5174"
      },
      "cell_type": "code",
      "source": "sns.regplot(x=\"price\", y=\"points\", data=wine_data, fit_reg = False)\nplt.xlabel(\"Price\",size=12)\nplt.ylabel(\"Points\",size=12)\nplt.title(\"Fig.10: Correlation between Price and Points\",size=20)",
      "execution_count": null,
      "outputs": []
    },
    {
      "metadata": {
        "trusted": true,
        "_uuid": "22212340974d3d0dc8be83454a7c1e3ced8a3528"
      },
      "cell_type": "code",
      "source": "# Coverage of Vintage vs. Non-Vintage\nwine_data['type'].value_counts().plot(kind=\"pie\",autopct='%1.0f%%')\nlabels = 'Vintage', 'Non-Vintage'\nplt.legend(labels)\nplt.suptitle(\"Fig.11: Vintage vs. Non-Vintage Wine\", size=20)\nplt.ylabel('')",
      "execution_count": null,
      "outputs": []
    },
    {
      "metadata": {
        "trusted": true,
        "_uuid": "008a3b0d5f68efcbf2c5dc5a3f309ec553e2be98"
      },
      "cell_type": "code",
      "source": "# Non-Vintage Wine Points Distribution\n#wine_data[wine_data['year']== 0]\nno_year= wine_data[wine_data['year']==0]\nsns.boxplot(x=no_year.points)\nplt.xlabel(\"Points\",size=15)\nplt.title(\"Fig.12: Non-Vintage Wine Points Distribution  \", size=20)",
      "execution_count": null,
      "outputs": []
    },
    {
      "metadata": {
        "trusted": true,
        "_uuid": "d69e87f6eb6da9f3a3df26cfcaa9b23f320dee58"
      },
      "cell_type": "code",
      "source": "plt.figure(figsize=(10,7))\nsns.heatmap(wd3.corr(),cmap=plt.cm.Reds,)\nplt.xticks(size=12,rotation=45)\nplt.yticks(size=12)\nplt.title('Fig.13: Correlation between Transformed Data Columns ',size=20)",
      "execution_count": null,
      "outputs": []
    },
    {
      "metadata": {
        "_uuid": "c155b8e5f07f73f8fba4a6a2e93b3b687680ab20"
      },
      "cell_type": "markdown",
      "source": ""
    },
    {
      "metadata": {
        "trusted": true,
        "_uuid": "e7f1f1bcc40ffeb1cb2be0afb7f12c6bd9abfdd0"
      },
      "cell_type": "markdown",
      "source": ""
    },
    {
      "metadata": {
        "trusted": true,
        "_uuid": "60734e8b8dd9af97bd20f2d20903300446a277b9"
      },
      "cell_type": "code",
      "source": "",
      "execution_count": null,
      "outputs": []
    }
  ],
  "metadata": {
    "kernelspec": {
      "display_name": "Python 3",
      "language": "python",
      "name": "python3"
    },
    "language_info": {
      "name": "python",
      "version": "3.6.6",
      "mimetype": "text/x-python",
      "codemirror_mode": {
        "name": "ipython",
        "version": 3
      },
      "pygments_lexer": "ipython3",
      "nbconvert_exporter": "python",
      "file_extension": ".py"
    }
  },
  "nbformat": 4,
  "nbformat_minor": 1
}